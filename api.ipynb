{
  "nbformat": 4,
  "nbformat_minor": 0,
  "metadata": {
    "colab": {
      "name": "api.ipynb",
      "provenance": []
    },
    "kernelspec": {
      "name": "python3",
      "display_name": "Python 3"
    },
    "language_info": {
      "name": "python"
    }
  },
  "cells": [
    {
      "cell_type": "markdown",
      "source": [
        "Выведем здесь все страны Африки с помощью API-методов для помощи в дальнейшем анализе"
      ],
      "metadata": {
        "id": "FIIWq1epotJ8"
      }
    },
    {
      "cell_type": "code",
      "source": [
        "import requests"
      ],
      "metadata": {
        "id": "uIkr7YwboPsF"
      },
      "execution_count": 7,
      "outputs": []
    },
    {
      "cell_type": "code",
      "execution_count": 10,
      "metadata": {
        "id": "9FKy-4FRleS1",
        "colab": {
          "base_uri": "https://localhost:8080/"
        },
        "outputId": "5b7eeaea-69b4-43fa-f633-a78ef7ad2077"
      },
      "outputs": [
        {
          "output_type": "stream",
          "name": "stdout",
          "text": [
            "Алжир\n",
            "Амбазония\n",
            "Ангола\n",
            "Бенин\n",
            "Ботсвана\n",
            "Буркина-Фасо\n",
            "Бурунди\n",
            "Габон\n",
            "Гамбия\n",
            "Гана\n",
            "Гвинея\n",
            "Гвинея-Бисау\n",
            "Джибути\n",
            "Египет\n",
            "Замбия\n",
            "Зимбабве\n",
            "Кабо-Верде\n",
            "Камерун\n",
            "Кения\n",
            "Коморы\n",
            "Демократическая Республика Конго\n",
            "Республика Конго\n",
            "Кот-д’Ивуар\n",
            "Лесото\n",
            "Либерия\n",
            "Ливия\n",
            "Маврикий\n",
            "Мавритания\n",
            "Мадагаскар\n",
            "Малави\n",
            "Мали\n",
            "Марокко\n",
            "Мозамбик\n",
            "Намибия\n",
            "Нигер\n",
            "Нигерия\n",
            "Руанда\n",
            "Сан-Томе и Принсипи\n",
            "Сейшельские Острова\n",
            "Сенегал\n",
            "Сомали\n",
            "Судан\n",
            "Сьерра-Леоне\n",
            "Танзания\n",
            "Того\n",
            "Тунис\n",
            "Уганда\n",
            "Центральноафриканская Республика\n",
            "Чад\n",
            "Экваториальная Гвинея\n",
            "Эритрея\n",
            "Эсватини\n",
            "Эфиопия\n",
            "ЮАР\n",
            "Южный Судан\n"
          ]
        }
      ],
      "source": [
        "url = \"https://ru.wikipedia.org/w/api.php\"\n",
        "params = {\n",
        "        'action': 'query',\n",
        "        'list': 'categorymembers',\n",
        "        'cmtitle': \"Категория:Страны_Африки\",\n",
        "        'format': 'json'\n",
        "    }\n",
        "titles = []\n",
        "while True:\n",
        "   r = requests.get(url, params=params)\n",
        "   data = r.json()\n",
        "   titles.extend([cm['title'] for cm in data['query']['categorymembers']])\n",
        "   if 'continue' not in data:\n",
        "       break\n",
        "   params.update(data['continue'])\n",
        "for i in titles:\n",
        "   print(i[10:])"
      ]
    },
    {
      "cell_type": "markdown",
      "source": [
        "Найдем статью, в которых описаны самые худшие в плане неравенства страны. И попробуем доказать с помощью них нашу гипотезу, что страны Африки - самые неблагополучные в этом плане, и что наша карта является достаточно показательной. (здесь используем методы веб-скреппинга)"
      ],
      "metadata": {
        "id": "0u5r2GaBpIE1"
      }
    },
    {
      "cell_type": "code",
      "source": [
        "from bs4 import BeautifulSoup"
      ],
      "metadata": {
        "id": "W-ZMYAMro0hB"
      },
      "execution_count": 11,
      "outputs": []
    },
    {
      "cell_type": "code",
      "source": [
        "r = requests.get(\"https://www.theguardian.com/inequality/datablog/2017/apr/26/inequality-index-where-are-the-worlds-most-unequal-countries\")\n",
        "soup = BeautifulSoup(r.text)"
      ],
      "metadata": {
        "id": "cKriM2pcpwUF"
      },
      "execution_count": 13,
      "outputs": []
    },
    {
      "cell_type": "code",
      "source": [
        "countries = soup.find_all(\"data-text\")\n"
      ],
      "metadata": {
        "id": "cASbplokqM01"
      },
      "execution_count": 18,
      "outputs": []
    },
    {
      "cell_type": "markdown",
      "source": [
        "Тут уже вот как-то не вышло найти правильный хэдеры, которые могли бы помочь вывести нужную нам информацию, но можно поверить, что в всех трех статьях, где описывается неравенство в странах мира, на первых местах - страны Африки, что достаточно логично)"
      ],
      "metadata": {
        "id": "YqKpbtzysWj8"
      }
    }
  ]
}